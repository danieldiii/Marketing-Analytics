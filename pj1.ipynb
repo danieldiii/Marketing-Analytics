{
 "cells": [
  {
   "cell_type": "markdown",
   "metadata": {},
   "source": [
    "# Customer segmentation"
   ]
  },
  {
   "cell_type": "markdown",
   "metadata": {},
   "source": [
    "## data preparation"
   ]
  },
  {
   "cell_type": "code",
   "execution_count": 15,
   "metadata": {
    "ExecuteTime": {
     "end_time": "2020-02-07T04:45:06.852334Z",
     "start_time": "2020-02-07T04:45:06.847349Z"
    }
   },
   "outputs": [],
   "source": [
    "# import packages\n",
    "\n",
    "import numpy as np\n",
    "import pandas as pd\n",
    "import matplotlib.pyplot as plt\n",
    "import seaborn as sns\n",
    "from sklearn.cluster import KMeans\n",
    "from sklearn.metrics import silhouette_score\n",
    "import scipy.cluster.hierarchy as sch\n",
    "from sklearn.cluster import AgglomerativeClustering\n",
    "from sklearn import preprocessing "
   ]
  },
  {
   "cell_type": "code",
   "execution_count": 24,
   "metadata": {
    "ExecuteTime": {
     "end_time": "2020-02-07T04:49:37.607617Z",
     "start_time": "2020-02-07T04:49:37.585507Z"
    }
   },
   "outputs": [],
   "source": [
    "# import aggregated data of customers from R\n",
    "train_data = pd.read_csv('cust.csv')\n",
    "train_data2 = train_data.dropna()\n",
    "train_data3 = train_data2.iloc[:,1:8]"
   ]
  },
  {
   "cell_type": "code",
   "execution_count": 25,
   "metadata": {
    "ExecuteTime": {
     "end_time": "2020-02-07T04:49:38.999574Z",
     "start_time": "2020-02-07T04:49:38.989631Z"
    },
    "scrolled": false
   },
   "outputs": [
    {
     "data": {
      "text/html": [
       "<div>\n",
       "<style scoped>\n",
       "    .dataframe tbody tr th:only-of-type {\n",
       "        vertical-align: middle;\n",
       "    }\n",
       "\n",
       "    .dataframe tbody tr th {\n",
       "        vertical-align: top;\n",
       "    }\n",
       "\n",
       "    .dataframe thead th {\n",
       "        text-align: right;\n",
       "    }\n",
       "</style>\n",
       "<table border=\"1\" class=\"dataframe\">\n",
       "  <thead>\n",
       "    <tr style=\"text-align: right;\">\n",
       "      <th></th>\n",
       "      <th>revenue_sum</th>\n",
       "      <th>profit_sum</th>\n",
       "      <th>visitcnt_sum</th>\n",
       "      <th>prodcnt_avg</th>\n",
       "      <th>dispercent</th>\n",
       "      <th>cateskew</th>\n",
       "      <th>storeskew</th>\n",
       "    </tr>\n",
       "  </thead>\n",
       "  <tbody>\n",
       "    <tr>\n",
       "      <th>0</th>\n",
       "      <td>9747.21</td>\n",
       "      <td>5987.198241</td>\n",
       "      <td>443</td>\n",
       "      <td>18.636085</td>\n",
       "      <td>0.182725</td>\n",
       "      <td>2.764834</td>\n",
       "      <td>0.749950</td>\n",
       "    </tr>\n",
       "    <tr>\n",
       "      <th>1</th>\n",
       "      <td>10107.31</td>\n",
       "      <td>6018.799721</td>\n",
       "      <td>353</td>\n",
       "      <td>20.486684</td>\n",
       "      <td>0.306022</td>\n",
       "      <td>2.836385</td>\n",
       "      <td>0.384888</td>\n",
       "    </tr>\n",
       "    <tr>\n",
       "      <th>2</th>\n",
       "      <td>7392.69</td>\n",
       "      <td>3293.592152</td>\n",
       "      <td>602</td>\n",
       "      <td>11.499719</td>\n",
       "      <td>0.382083</td>\n",
       "      <td>3.720312</td>\n",
       "      <td>0.380937</td>\n",
       "    </tr>\n",
       "    <tr>\n",
       "      <th>3</th>\n",
       "      <td>5375.40</td>\n",
       "      <td>2515.793601</td>\n",
       "      <td>191</td>\n",
       "      <td>21.629045</td>\n",
       "      <td>0.523283</td>\n",
       "      <td>2.538427</td>\n",
       "      <td>1.298857</td>\n",
       "    </tr>\n",
       "    <tr>\n",
       "      <th>4</th>\n",
       "      <td>9665.97</td>\n",
       "      <td>4004.741900</td>\n",
       "      <td>353</td>\n",
       "      <td>15.181325</td>\n",
       "      <td>0.584671</td>\n",
       "      <td>1.957431</td>\n",
       "      <td>1.073118</td>\n",
       "    </tr>\n",
       "  </tbody>\n",
       "</table>\n",
       "</div>"
      ],
      "text/plain": [
       "   revenue_sum   profit_sum  visitcnt_sum  prodcnt_avg  dispercent  cateskew  \\\n",
       "0      9747.21  5987.198241           443    18.636085    0.182725  2.764834   \n",
       "1     10107.31  6018.799721           353    20.486684    0.306022  2.836385   \n",
       "2      7392.69  3293.592152           602    11.499719    0.382083  3.720312   \n",
       "3      5375.40  2515.793601           191    21.629045    0.523283  2.538427   \n",
       "4      9665.97  4004.741900           353    15.181325    0.584671  1.957431   \n",
       "\n",
       "   storeskew  \n",
       "0   0.749950  \n",
       "1   0.384888  \n",
       "2   0.380937  \n",
       "3   1.298857  \n",
       "4   1.073118  "
      ]
     },
     "execution_count": 25,
     "metadata": {},
     "output_type": "execute_result"
    }
   ],
   "source": [
    "# check the dataset\n",
    "train_data3.head()"
   ]
  },
  {
   "cell_type": "code",
   "execution_count": 33,
   "metadata": {
    "ExecuteTime": {
     "end_time": "2020-02-07T04:53:23.879541Z",
     "start_time": "2020-02-07T04:53:23.872559Z"
    },
    "scrolled": true
   },
   "outputs": [
    {
     "name": "stderr",
     "output_type": "stream",
     "text": [
      "C:\\Users\\feifa\\anaconda3\\lib\\site-packages\\sklearn\\preprocessing\\data.py:334: DataConversionWarning: Data with input dtype int64, float64 were all converted to float64 by MinMaxScaler.\n",
      "  return self.partial_fit(X, y)\n"
     ]
    }
   ],
   "source": [
    "# scaling the potential used columns using the min-max method\n",
    "mm_scaler = preprocessing.MinMaxScaler()\n",
    "x_train_minmax = mm_scaler.fit_transform(train_data3)"
   ]
  },
  {
   "cell_type": "code",
   "execution_count": 35,
   "metadata": {
    "ExecuteTime": {
     "end_time": "2020-02-07T04:54:09.407293Z",
     "start_time": "2020-02-07T04:54:09.403303Z"
    },
    "scrolled": true
   },
   "outputs": [],
   "source": [
    "# change the data type back to dataframe\n",
    "train_data3 = pd.DataFrame(x_train_minmax)"
   ]
  },
  {
   "cell_type": "code",
   "execution_count": 37,
   "metadata": {
    "ExecuteTime": {
     "end_time": "2020-02-07T04:55:13.900189Z",
     "start_time": "2020-02-07T04:55:13.896203Z"
    }
   },
   "outputs": [],
   "source": [
    "# recover the column names\n",
    "train_data3.columns = train_data2.iloc[:,1:8].columns"
   ]
  },
  {
   "cell_type": "markdown",
   "metadata": {},
   "source": [
    "## k-means modeling"
   ]
  },
  {
   "cell_type": "code",
   "execution_count": 38,
   "metadata": {
    "ExecuteTime": {
     "end_time": "2020-02-07T04:55:29.791003Z",
     "start_time": "2020-02-07T04:55:28.345917Z"
    },
    "scrolled": true
   },
   "outputs": [
    {
     "data": {
      "image/png": "[encoded data removed]",
      "text/plain": [
       "<Figure size 432x288 with 1 Axes>"
      ]
     },
     "metadata": {
      "needs_background": "light"
     },
     "output_type": "display_data"
    },
    {
     "data": {
      "image/png": "[encoded data removed]",
      "text/plain": [
       "<Figure size 432x288 with 1 Axes>"
      ]
     },
     "metadata": {
      "needs_background": "light"
     },
     "output_type": "display_data"
    },
    {
     "data": {
      "image/png": "[encoded data removed]",
      "text/plain": [
       "<Figure size 432x288 with 1 Axes>"
      ]
     },
     "metadata": {
      "needs_background": "light"
     },
     "output_type": "display_data"
    },
    {
     "data": {
      "image/png": "[encoded data removed]",
      "text/plain": [
       "<Figure size 432x288 with 1 Axes>"
      ]
     },
     "metadata": {
      "needs_background": "light"
     },
     "output_type": "display_data"
    },
    {
     "data": {
      "image/png": "[encoded data removed]",
      "text/plain": [
       "<Figure size 432x288 with 1 Axes>"
      ]
     },
     "metadata": {
      "needs_background": "light"
     },
     "output_type": "display_data"
    },
    {
     "data": {
      "image/png": "[encoded data removed]",
      "text/plain": [
       "<Figure size 432x288 with 1 Axes>"
      ]
     },
     "metadata": {
      "needs_background": "light"
     },
     "output_type": "display_data"
    },
    {
     "data": {
      "image/png": "[encoded data removed]",
      "text/plain": [
       "<Figure size 432x288 with 1 Axes>"
      ]
     },
     "metadata": {
      "needs_background": "light"
     },
     "output_type": "display_data"
    }
   ],
   "source": [
    "# check the histograms of every column\n",
    "for i, col in enumerate(train_data3.iloc[:,0:7].columns):\n",
    "    plt.figure(i)\n",
    "    sns.distplot(train_data3.iloc[:,0:7][col])"
   ]
  },
  {
   "cell_type": "code",
   "execution_count": 39,
   "metadata": {
    "ExecuteTime": {
     "end_time": "2020-02-07T04:55:36.228797Z",
     "start_time": "2020-02-07T04:55:36.220822Z"
    }
   },
   "outputs": [],
   "source": [
    "# define a gap statstic function to find the best k\n",
    "def optimalK(data, nrefs=3, maxClusters=15):\n",
    "    \"\"\"\n",
    "    Calculates KMeans optimal K using Gap Statistic from Tibshirani, Walther, Hastie\n",
    "    Params:\n",
    "        data: ndarry of shape (n_samples, n_features)\n",
    "        nrefs: number of sample reference datasets to create\n",
    "        maxClusters: Maximum number of clusters to test for\n",
    "    Returns: (gaps, optimalK)\n",
    "    \"\"\"\n",
    "    gaps = np.zeros((len(range(1, maxClusters)),))\n",
    "    resultsdf = pd.DataFrame({'clusterCount':[], 'gap':[]})\n",
    "    for gap_index, k in enumerate(range(1, maxClusters)):\n",
    "\n",
    "        # Holder for reference dispersion results\n",
    "        refDisps = np.zeros(nrefs)\n",
    "\n",
    "        # For n references, generate random sample and perform kmeans getting resulting dispersion of each loop\n",
    "        for i in range(nrefs):\n",
    "            \n",
    "            # Create new random reference set\n",
    "            randomReference = np.random.random_sample(size=data.shape)\n",
    "            \n",
    "            # Fit to it\n",
    "            km = KMeans(k)\n",
    "            km.fit(randomReference)\n",
    "            \n",
    "            refDisp = km.inertia_\n",
    "            refDisps[i] = refDisp\n",
    "\n",
    "        # Fit cluster to original data and create dispersion\n",
    "        km = KMeans(k)\n",
    "        km.fit(data)\n",
    "        \n",
    "        origDisp = km.inertia_\n",
    "\n",
    "        # Calculate gap statistic\n",
    "        gap = np.log(np.mean(refDisps)) - np.log(origDisp)\n",
    "\n",
    "        # Assign this loop's gap statistic to gaps\n",
    "        gaps[gap_index] = gap\n",
    "        \n",
    "        resultsdf = resultsdf.append({'clusterCount':k, 'gap':gap}, ignore_index=True)\n",
    "\n",
    "    return (gaps.argmax() + 1, resultsdf)  # Plus 1 because index of 0 means 1 cluster is optimal, index 2 = 3 clusters are optimal"
   ]
  },
  {
   "cell_type": "code",
   "execution_count": 47,
   "metadata": {
    "ExecuteTime": {
     "end_time": "2020-02-07T04:58:28.880001Z",
     "start_time": "2020-02-07T04:58:11.383445Z"
    }
   },
   "outputs": [
    {
     "name": "stdout",
     "output_type": "stream",
     "text": [
      "Optimal k is:  5\n"
     ]
    }
   ],
   "source": [
    "# find the best k\n",
    "k, gapdf = optimalK(train_data3.iloc[:,[2,3,4,5,6]], nrefs=5, maxClusters=9)\n",
    "print ('Optimal k is: ', k)"
   ]
  },
  {
   "cell_type": "code",
   "execution_count": 48,
   "metadata": {
    "ExecuteTime": {
     "end_time": "2020-02-07T04:58:32.452665Z",
     "start_time": "2020-02-07T04:58:32.322984Z"
    }
   },
   "outputs": [
    {
     "data": {
      "image/png": "[encoded data removed]",
      "text/plain": [
       "<Figure size 432x288 with 1 Axes>"
      ]
     },
     "metadata": {
      "needs_background": "light"
     },
     "output_type": "display_data"
    }
   ],
   "source": [
    "# plot the gap values by k\n",
    "plt.plot(gapdf.clusterCount, gapdf.gap, linewidth=3)\n",
    "plt.scatter(gapdf[gapdf.clusterCount == k].clusterCount, gapdf[gapdf.clusterCount == k].gap, s=250, c='r')\n",
    "plt.grid(True)\n",
    "plt.xlabel('Cluster Count')\n",
    "plt.ylabel('Gap Value')\n",
    "plt.title('Gap Values by Cluster Count')\n",
    "plt.show()"
   ]
  },
  {
   "cell_type": "code",
   "execution_count": 49,
   "metadata": {
    "ExecuteTime": {
     "end_time": "2020-02-07T04:58:58.874098Z",
     "start_time": "2020-02-07T04:58:58.663661Z"
    }
   },
   "outputs": [],
   "source": [
    "# since 5 clusters is the best, I extract the model with 5 clusters\n",
    "km = KMeans(\n",
    "    n_clusters=5, init='k-means++',\n",
    "    n_init=10, max_iter=300, \n",
    "    tol=1e-04, random_state=42\n",
    ")\n",
    "y_km = km.fit_predict(train_data3.iloc[:,2:7])"
   ]
  },
  {
   "cell_type": "code",
   "execution_count": 50,
   "metadata": {
    "ExecuteTime": {
     "end_time": "2020-02-07T04:59:00.987158Z",
     "start_time": "2020-02-07T04:59:00.968209Z"
    },
    "scrolled": true
   },
   "outputs": [
    {
     "data": {
      "text/plain": [
       "array([2, 0, 2, 4, 0, 0, 4, 3, 0, 3, 0, 0, 3, 4, 0, 4, 0, 0, 2, 0, 0, 3,\n",
       "       1, 0, 0, 2, 3, 4, 2, 2, 2, 0, 3, 2, 3, 3, 4, 3, 0, 3, 0, 4, 4, 4,\n",
       "       2, 0, 4, 2, 3, 0, 4, 0, 0, 0, 0, 3, 2, 0, 0, 4, 3, 0, 4, 0, 0, 3,\n",
       "       0, 3, 0, 3, 2, 2, 0, 3, 1, 0, 0, 4, 0, 4, 2, 3, 1, 0, 4, 3, 0, 4,\n",
       "       0, 3, 0, 0, 3, 4, 0, 0, 0, 3, 3, 2, 4, 3, 0, 4, 1, 4, 4, 3, 2, 4,\n",
       "       3, 2, 0, 2, 2, 2, 3, 0, 2, 1, 0, 0, 3, 1, 3, 4, 0, 2, 4, 0, 1, 3,\n",
       "       2, 4, 0, 0, 0, 4, 4, 0, 0, 0, 3, 2, 3, 3, 1, 1, 1, 3, 3, 3, 3, 4,\n",
       "       0, 4, 0, 3, 3, 1, 0, 0, 3, 2, 4, 3, 4, 0, 0, 2, 1, 4, 0, 2, 3, 3,\n",
       "       1, 4, 4, 0, 0, 4, 3, 4, 2, 2, 0, 4, 0, 3, 0, 1, 4, 1, 3, 2, 3, 0,\n",
       "       2, 0, 0, 3, 1, 4, 0, 0, 3, 4, 1, 0, 3, 3, 0, 0, 0, 3, 1, 0, 2, 3,\n",
       "       3, 3, 0, 4, 4, 4, 1, 2, 0, 0, 1, 1, 3, 4, 3, 0, 2, 2, 2, 3, 4, 3,\n",
       "       0, 4, 0, 0, 4, 4, 4, 0, 3, 4, 0, 0, 1, 0, 2, 0, 2, 2, 4, 3, 2, 2,\n",
       "       0, 3, 2, 3, 3, 0, 3, 0, 3, 0, 3, 4, 3, 3, 4, 4, 0, 4, 3, 3, 2, 0,\n",
       "       3, 2, 2, 3, 3, 3, 3, 0, 0, 0, 2, 0, 4, 0, 0, 3, 0, 4, 0, 3, 2, 3,\n",
       "       0, 2, 0, 4, 0, 3, 3, 3, 3, 0, 0, 2, 3, 2, 0, 3, 4, 0, 0, 0, 3, 4,\n",
       "       4, 4, 2, 4, 4, 1, 0, 1, 4, 3, 4, 2, 0, 1, 3, 3, 4, 4, 2, 2, 4, 0,\n",
       "       0, 0, 4, 2, 0, 0, 0, 2, 0, 3, 0, 0, 3, 2, 2, 2, 0, 0, 3, 0, 0, 3,\n",
       "       2, 3, 2, 1, 2, 0, 2, 2, 0, 0, 0, 3, 2, 0, 2, 3, 0, 0, 4, 0, 2, 0,\n",
       "       0, 2, 0, 3, 4, 0, 0, 0, 0, 3, 0, 2, 3, 0, 0, 3, 0, 0, 0, 3, 4, 2,\n",
       "       3, 4, 1, 3, 3, 3, 2, 2, 3, 3, 0, 2, 4, 3, 0, 4, 2, 4, 4, 4, 0, 3,\n",
       "       4, 0, 3, 4, 0, 1, 1, 0, 3, 3, 0, 3, 2, 0, 4, 0, 0, 3, 3, 0, 3, 3,\n",
       "       0, 3, 3, 3, 0, 4, 0, 0, 4, 1, 3, 0, 0, 0, 0, 0, 1, 0, 3, 0, 2, 0,\n",
       "       0, 0, 3, 4, 1, 2, 2, 1, 3, 0, 2, 0, 0, 0, 2, 3, 4, 3, 0, 0, 0, 0,\n",
       "       0, 0, 0, 3, 1, 3, 3, 3, 0, 0, 0, 2, 0, 0, 0, 0, 0, 3, 0, 0, 2, 0,\n",
       "       3, 0, 3, 4, 1, 0, 4, 0, 4, 2, 1, 2, 3, 1, 1, 2, 4, 3, 3, 0, 4, 0,\n",
       "       0, 2, 3, 2, 4, 3, 3, 0, 2, 4, 1, 0, 4, 0, 3, 2, 3, 1, 3, 4, 2, 0,\n",
       "       0, 4, 4, 2, 0, 0, 3, 0, 0, 0, 3, 3, 0, 0, 3, 4, 4, 4, 4, 3, 0, 3,\n",
       "       0, 2, 0, 3, 3, 2, 0, 4, 0, 3, 2, 4, 0, 3, 1, 3, 0, 0, 3, 1, 3, 0,\n",
       "       3, 2, 0, 3, 0, 4, 0, 1, 0, 3, 3, 2, 2, 4, 0, 4, 2, 2, 4, 4, 4, 0,\n",
       "       0, 0, 3, 3, 2, 3, 4, 4, 0, 3, 0, 0, 1, 3, 0, 0, 3, 2, 2, 2, 2, 4,\n",
       "       1, 3, 4, 3, 2, 3, 3, 4, 0, 0, 0, 3, 0, 4, 2, 0, 1, 0, 3, 0, 3, 3,\n",
       "       1, 0, 3, 1, 0, 3, 0, 2, 1, 3, 4, 3, 2, 3, 3, 0, 3, 0, 2, 0, 3, 0,\n",
       "       3, 0, 0, 3, 3, 3, 0, 0, 4, 3, 1, 0, 0, 3, 0, 0, 3, 1, 2, 2, 1, 2,\n",
       "       0, 0, 0, 2, 2, 3, 0, 0, 4, 0, 4, 4, 0, 2, 3, 2, 4, 0, 3, 0, 0, 0,\n",
       "       4, 3, 4, 2, 2, 1, 3, 0, 0, 4, 3, 2, 0, 0, 3, 0, 3, 4, 0, 4, 4, 0,\n",
       "       4, 0, 4, 3, 4, 2, 4, 0, 0, 4, 1, 0, 1, 0, 0, 3, 3, 1, 0, 2, 3, 4,\n",
       "       4, 0, 3, 0, 3, 3, 1, 0, 0, 0, 0, 3, 4, 4, 4, 3, 2, 2, 4, 0, 3, 3,\n",
       "       1, 3, 0, 3, 3, 4, 0, 4, 0, 4, 0, 0, 3, 3, 4, 0, 0, 2, 0, 0, 1, 0,\n",
       "       0, 2, 3, 0, 4, 2, 1, 0, 4, 3, 0, 4, 0, 0, 0, 3, 3, 3, 0, 0, 3, 0,\n",
       "       4, 2, 0, 0, 0, 4, 4, 4, 3, 0, 1, 1, 2, 4, 2, 4, 0, 2, 3, 3, 2, 0,\n",
       "       0, 3, 2, 2, 3, 0, 2, 1, 4, 2, 1, 1, 3, 3, 0, 3, 1, 1, 4, 0, 4, 0,\n",
       "       4, 2, 1, 3, 0, 0, 2, 4, 4, 2, 0, 3, 1, 2, 3, 0, 3, 4, 4, 0, 0, 3,\n",
       "       0, 0, 3, 2, 4, 3, 2, 2, 1, 0, 1, 2, 4, 0, 4, 4, 2, 3, 0, 4, 0, 2,\n",
       "       3, 0, 3, 2, 0, 0, 0, 3, 3, 0, 0, 0, 4, 4, 0, 3, 3, 4, 3, 0, 1, 4,\n",
       "       0, 0, 3, 4, 0, 4, 0, 0, 4, 0, 0, 3, 0, 0, 0, 2, 4, 0, 0, 3, 3, 3,\n",
       "       2, 3, 4, 0, 1, 2, 0, 0, 1, 0, 2, 1, 4, 2, 0, 0, 3, 2, 0, 0, 4, 0,\n",
       "       4, 4, 2, 3, 0, 4, 2, 2, 1, 0, 4, 3, 0, 2, 3, 3, 1, 3, 4, 2, 0, 3,\n",
       "       0, 3, 3, 3, 4, 3, 4, 2, 3, 4, 4, 0, 0, 4, 0, 2, 2, 3, 2, 0, 1, 1,\n",
       "       3, 3, 3, 1, 4, 2, 4, 3, 3, 3, 2, 0, 4, 4, 2, 2, 4, 3, 4, 0, 3, 3,\n",
       "       4, 0, 0, 0, 0, 4, 0, 0, 4, 4, 2, 3, 0, 0, 0, 0, 2, 0, 3, 3, 2, 1,\n",
       "       2, 4, 4, 0, 2, 1, 3, 2, 3, 0, 2, 2, 4, 3, 0, 2, 3, 1, 0, 0, 3, 1,\n",
       "       3, 4, 1, 2, 0, 3, 3, 4, 0, 0, 4, 1, 3, 4, 4, 0, 3, 3, 3, 0, 3, 0,\n",
       "       2, 4, 0, 4, 2, 2, 0, 0, 1, 4, 0, 0, 3, 3, 1, 3, 3, 2, 2, 4, 0, 4,\n",
       "       0, 0, 4, 3, 4, 0, 1, 0, 3, 4, 4, 2, 3, 3, 4, 0, 2, 2, 3, 2, 3, 0,\n",
       "       4, 0, 3, 2, 2, 0, 3, 4, 4, 4, 4, 4, 1, 1, 3, 2, 2, 0, 0, 0, 2, 4,\n",
       "       0, 0, 3, 0, 0, 4, 2, 3, 2, 4, 0, 0, 3, 3, 2, 0, 2, 3, 2, 1, 0, 0,\n",
       "       2, 0, 4, 4, 0, 2, 3, 4, 1, 0, 0, 4, 1, 3, 0, 2, 2, 2, 1, 4, 1, 0,\n",
       "       3, 0, 0, 0, 4, 2, 0, 0, 2, 1, 4, 3, 3, 2, 0, 0, 0, 2, 3, 4, 0, 2,\n",
       "       3, 3, 0, 4, 0, 0, 4, 0, 0, 0, 4, 0, 3, 2, 3, 2, 0, 2, 1, 0, 0, 3,\n",
       "       1, 0, 2, 3, 3, 1, 2, 0, 3, 3, 3, 1, 4, 2, 4, 4, 0, 2, 4, 3, 3, 3,\n",
       "       1, 2, 4, 0, 0, 0, 3, 3, 2, 0, 4, 3, 2, 4, 0, 2, 1, 0, 3, 0, 3, 0,\n",
       "       3, 1, 4, 0, 3, 4, 0, 4, 0, 0, 0, 2, 0, 3, 2, 1, 4, 3, 2, 0, 2, 0,\n",
       "       3, 0, 0, 1, 0, 0, 3, 3, 0, 3, 0, 0, 3, 4, 4, 0, 0, 4, 0, 3, 4, 0,\n",
       "       0, 4, 0, 0, 1, 3, 0, 4, 3, 2, 0, 3, 4, 2, 4, 4, 0, 0, 0, 0, 0, 0,\n",
       "       0, 4, 2, 3, 2, 2, 3, 3, 4, 2, 4, 4, 1, 1, 3, 4, 3, 0, 4, 0, 0, 4,\n",
       "       3, 0, 4, 3, 0, 0, 0, 2, 3, 3, 3, 3, 3, 0, 0, 4, 3, 0, 3, 0, 3, 4,\n",
       "       3, 2, 0, 2, 3, 0, 0, 4, 3, 3, 2, 3, 1, 0, 4, 0, 0, 0, 0, 4, 4, 0,\n",
       "       2, 4, 1, 0, 3, 3, 1, 2, 3, 0, 0, 1, 3, 3, 3, 0, 0, 0, 3, 0, 0, 0,\n",
       "       2, 2, 4, 0, 3, 0, 0, 4, 1, 4, 2, 3, 2, 0, 0, 3, 4, 2, 3, 2, 4, 4,\n",
       "       0, 0, 2, 3, 3, 0, 0, 2, 0, 4, 4, 2, 3, 3, 1, 0, 2, 0, 3, 2, 4, 0,\n",
       "       4, 4, 0, 3, 0, 3, 3, 4, 0, 0, 4, 2, 4, 2, 3, 1, 3, 0, 3, 4, 4, 0,\n",
       "       3, 0, 0, 4, 2, 4, 0, 2, 3, 4, 2, 1, 0, 4, 2, 0, 2, 4, 0, 0, 3, 1,\n",
       "       4, 3, 0, 3, 2, 0, 4, 2, 4, 0, 3, 0, 0, 2, 3, 3, 0, 3, 2, 0, 4, 2,\n",
       "       3, 3, 2, 4, 2, 2, 2, 0, 3, 3, 0, 0, 3, 4, 4, 3, 0, 0, 3, 0, 4, 0,\n",
       "       3, 4, 4, 3, 0, 4, 0, 1, 0, 2, 3, 4, 4, 4, 3, 0, 0, 3, 3, 1, 0, 2,\n",
       "       3, 0, 2, 0, 3, 0, 2, 0, 3, 0, 4, 3, 0, 3, 0, 2, 0, 4, 3, 2, 2, 3,\n",
       "       1, 2, 0, 1, 4, 4, 3, 3, 0, 3, 2, 4, 4, 2, 2, 0, 4, 2, 0, 3, 0, 3,\n",
       "       3, 3, 0, 3, 3, 3, 0, 0, 3, 2, 3, 3, 0, 3, 0, 2, 4, 3, 4, 2, 3, 0,\n",
       "       0, 4, 4, 0, 3, 3, 3, 0, 0, 0, 3, 0, 4, 4, 1, 2, 0, 4, 2, 2, 0, 1,\n",
       "       0, 0, 0, 0, 0, 3, 4, 4, 1, 4, 3, 0, 1, 3, 0, 4, 0, 3, 2, 4, 2, 0,\n",
       "       1, 0, 1, 0, 0, 4, 0, 3, 0, 1, 0, 1, 0, 0, 4, 4, 0, 1, 4, 0, 0, 0,\n",
       "       2, 0, 2, 0, 0, 3, 3, 4, 0, 1, 4, 2, 2, 4, 0, 2, 0, 0, 3, 3, 3, 0,\n",
       "       2, 2, 0, 4, 0, 2, 0, 0, 0, 2, 2, 0, 0, 2, 3, 1, 4, 0, 1, 0, 4, 4,\n",
       "       1, 0, 4, 2, 3, 1, 4, 3, 2, 4, 3, 3, 4, 0, 0, 1, 2, 3, 3, 0, 2, 3,\n",
       "       4, 4, 4, 4, 3, 0, 3, 4, 0, 0, 3, 3, 3, 4, 1, 4, 2, 1, 0, 0, 4, 2,\n",
       "       4, 4, 4, 4, 4, 3, 4, 3, 0, 1, 2, 2, 3, 0, 3, 4, 2, 0, 0, 0, 1, 0,\n",
       "       0, 4, 4, 2, 4, 3, 3, 0, 3, 4, 3, 3, 0, 1, 3, 1, 4, 0, 3, 3, 3, 4,\n",
       "       0, 0, 0, 0, 3, 0, 0, 0, 0, 2, 4, 1, 3, 1, 3, 0, 0, 2, 3, 4, 4, 4,\n",
       "       0, 4, 1, 4, 2, 0, 2, 0, 4, 0, 2, 4, 1, 1, 0, 1, 1, 0, 2, 0, 3, 1,\n",
       "       4, 3, 4, 1, 0, 2, 3, 4, 4, 2, 4, 3, 3, 3, 2, 3, 0, 3, 0, 0, 1, 4,\n",
       "       0, 3, 0, 0, 4, 4, 3, 2, 0, 0, 4, 3, 2, 3, 1, 0, 0, 0, 0, 0, 0, 0,\n",
       "       2, 2, 4, 3, 0, 3, 3, 3, 4, 0, 4, 2, 0, 0, 0, 4, 2, 4, 3, 2, 3, 0,\n",
       "       0, 4, 3, 3, 1, 0, 0, 4, 2, 4, 4, 0, 2, 3, 4, 4, 0, 0, 1, 0, 4, 4,\n",
       "       3, 0, 0, 2, 2, 4, 0, 0, 2, 4, 0, 1, 3, 4, 0, 0, 2, 3, 1, 0, 3, 2,\n",
       "       0, 3, 0, 2, 3, 2, 2, 2, 1, 0, 3, 4, 2, 3, 3, 3, 3, 0, 4, 4, 0, 3,\n",
       "       0, 4, 4, 1, 3, 0, 2, 0, 0, 2, 0, 0, 0, 3, 0, 0, 0, 4, 3, 4, 0, 4,\n",
       "       3, 0, 0, 0, 1, 4, 3, 4, 2, 2, 3, 0, 2, 0, 3, 3, 0, 3, 2, 0, 4, 0,\n",
       "       0, 0, 0, 2, 2, 0, 1, 4, 1, 3, 2, 0, 0, 0, 4, 1, 0, 0, 3, 2, 3, 0,\n",
       "       3, 2, 3, 2, 0, 4, 3, 4, 3, 0, 3, 2, 2, 0, 0, 4, 2, 0, 0, 4, 0, 2,\n",
       "       1, 4, 0, 4, 4, 3, 3, 4, 0, 0, 0, 4, 4, 0, 4, 3, 3, 3, 0, 0, 3, 0,\n",
       "       0, 4, 0, 0, 2, 2, 3, 3, 4, 4, 0, 2, 0, 4, 3, 2, 2, 2, 3, 1, 4, 3,\n",
       "       0, 4, 2, 4, 4, 4, 2, 4, 4, 2, 3, 1, 3, 0, 0, 4, 0, 1, 4, 0, 3, 3,\n",
       "       4, 3, 3, 3, 1, 3, 3, 2, 2, 3, 0, 0, 0, 1, 4, 3, 4, 0, 2, 0, 3, 2,\n",
       "       4, 2, 3, 2, 4, 1, 0, 0, 3, 0, 0, 3, 0, 0, 4, 1, 3, 0, 3, 3, 0, 2,\n",
       "       0, 3, 2, 3, 0, 0, 0, 2, 4, 4, 4, 0, 4, 3, 4, 0, 1, 0, 3, 3, 3, 1,\n",
       "       3, 2, 0, 0, 0, 0, 0, 0, 3, 1, 4, 0, 3, 3, 1, 4, 1, 4, 0, 1, 4, 0,\n",
       "       3, 3, 0, 4, 0, 2, 1, 0, 1, 4, 0, 3, 0, 3, 0, 4, 4, 0, 1, 4, 0, 4,\n",
       "       3, 0, 3, 0, 3, 4, 0, 0, 2, 2, 3, 0, 0, 3, 0, 3, 0, 0, 4, 2, 2, 0,\n",
       "       0, 2, 3, 3, 0, 3, 4, 0, 1, 0, 3, 2, 3, 0, 2, 4, 0, 3, 3, 4, 2, 0,\n",
       "       0, 0, 2, 0, 2, 3, 1, 3, 3, 0, 0, 1, 3, 0, 3, 3, 0, 4, 4, 3, 0, 0,\n",
       "       2, 0, 4, 0, 4, 0, 2, 0, 0, 0, 4, 3, 4, 4, 2, 3, 0, 2, 3, 3, 0, 0,\n",
       "       0, 3, 0, 3, 3, 3, 3, 4, 0, 3, 1, 0, 2, 0, 0, 3, 2, 0, 0, 0, 4, 4,\n",
       "       0, 0, 0, 0, 0, 3, 4, 1, 1, 4, 0, 2, 4, 2, 0, 0, 3, 4, 4, 0, 3, 0,\n",
       "       2, 2, 0, 0, 3, 0, 2, 3, 2, 3, 2, 3, 3, 2, 1, 0, 1, 0, 4, 0, 1, 4,\n",
       "       2, 4, 1, 2, 3, 2, 0, 0, 3, 0, 3, 0, 4, 4, 3, 0, 3, 4, 4, 0, 3, 0,\n",
       "       1, 4, 0, 0, 3, 3, 3, 2, 0, 3, 2, 4, 2, 3, 3, 0, 3, 0, 2, 1, 0, 4,\n",
       "       3, 3, 0, 0, 4, 4, 4, 3, 0, 3, 0, 3, 4, 4, 0, 2, 0, 0, 1, 0, 0, 3,\n",
       "       4, 0, 3, 3, 4, 2, 0, 2, 4, 3, 0, 0, 0, 0, 0, 3, 0, 3, 0, 3, 0, 4,\n",
       "       0, 3, 0, 1, 0, 3, 3, 3, 0, 4, 3, 3, 3, 0, 0, 2, 3, 0, 0, 4, 3, 0,\n",
       "       1, 0, 0, 0, 4, 4, 3, 3, 0, 0, 4, 3, 0, 0, 3, 1, 3, 3, 3, 3, 4, 0,\n",
       "       0, 4, 3, 3, 3, 0, 4, 0, 0, 3, 3, 2, 0, 4, 4, 3, 2, 0, 3, 0, 4, 0,\n",
       "       0, 0, 1, 1, 1, 0, 3, 3, 0, 2, 2, 3, 2, 0, 3, 2, 3, 4, 4, 4, 3, 1,\n",
       "       0, 0, 1, 4, 0, 4, 3, 3, 2, 0, 0, 3, 4, 2, 4, 0, 0, 3, 0, 0, 0, 4,\n",
       "       0, 4, 1, 3, 0, 4, 2, 0, 0, 2, 0, 0, 4, 3, 0, 0, 0, 2, 0, 3, 3, 1,\n",
       "       3, 1, 4, 0, 2, 4, 0, 3, 0, 2, 3, 0, 2, 4, 3, 3, 2, 4, 0, 0, 2, 3,\n",
       "       0, 4, 3, 0, 3, 0, 0, 3, 3, 0, 0, 3, 2, 3, 0, 3, 0, 4, 4, 0, 1, 2,\n",
       "       4, 3, 4, 0, 4, 0, 4, 3, 1, 3, 3, 3, 0, 1, 0, 2, 4, 0, 3, 3, 0, 3,\n",
       "       0, 0, 0, 3, 0, 4, 1, 4, 0, 4, 0, 1, 0, 0, 3, 4, 4, 0, 3, 3, 4, 2,\n",
       "       0, 2, 1, 3, 2, 3, 1, 0, 0, 0, 0, 3, 2, 2, 2, 4, 3, 3, 0, 1, 4, 2,\n",
       "       4, 3, 3, 2, 0, 0, 0, 2, 2, 1, 0, 3, 3, 0, 0, 2, 2, 2, 4, 4, 4, 4,\n",
       "       3, 2, 3, 4, 1, 3, 1, 0, 3, 0, 0, 0, 4, 4, 4, 1, 1, 4, 3, 2, 4, 1,\n",
       "       1, 4, 2, 3, 1, 4, 3, 4, 0, 0, 4, 2, 3, 3, 2, 1, 2, 0, 1, 0, 1, 0,\n",
       "       1, 4, 0, 1, 0, 4, 3, 4, 0, 0, 4, 2, 2, 1, 0, 2, 4, 0, 0, 0, 0, 0,\n",
       "       3, 0, 2, 3, 0, 1, 4, 3, 3, 4, 3, 1, 0, 0, 4, 2, 0, 1, 2, 4, 0, 0,\n",
       "       0, 2, 0, 0, 3, 1, 4, 4, 3, 3, 2, 4, 4, 3, 4, 4, 0, 1, 0, 3, 4, 0,\n",
       "       3, 3, 3, 2, 3, 4, 0, 3, 3, 3, 4, 0, 0, 0, 0, 1, 2, 3, 2, 3, 0, 2,\n",
       "       4, 2, 4, 4, 0, 4, 0, 0, 4, 0, 3, 1, 4, 3, 4, 0, 0, 1, 0, 4, 3, 3,\n",
       "       0, 2, 0, 3, 0, 2, 0, 3, 3, 3, 0, 0, 3, 2, 0, 1, 0, 3, 0, 0, 3, 2,\n",
       "       0, 1, 1, 3, 0, 0, 4, 0, 0, 1, 3, 0, 3, 2, 3, 4, 3, 3, 0, 4, 0, 0,\n",
       "       4, 2, 2, 3, 2, 3, 0, 4, 4, 0, 0, 0, 2, 0, 0, 1, 0, 4, 0, 3, 0, 4,\n",
       "       0, 1, 1, 0, 1, 0, 0, 1, 1, 0, 3, 0, 0, 0, 0, 3, 0, 0, 3, 3, 3, 2,\n",
       "       4, 3, 4, 3, 3, 0, 4, 3, 4, 4, 0, 0, 0, 0, 4, 4, 0, 4, 0, 3, 0, 0,\n",
       "       4, 0, 0, 4, 3, 4, 4, 2, 2, 3, 4, 3, 0, 2, 3, 2, 2, 0, 0, 3, 2, 0,\n",
       "       4, 0, 3, 0, 3, 4, 0, 3, 4, 3, 3, 3, 3, 1, 4, 2, 3, 4, 2, 1, 3, 4,\n",
       "       1, 0, 2, 4, 2, 4, 2, 0, 1, 2, 0, 2, 2, 3, 0, 4, 4, 1, 0, 4, 0, 4,\n",
       "       4, 2, 0, 1, 4, 3, 0, 4, 2, 0, 0, 3, 4, 3, 2, 0, 0, 0, 0, 0, 0, 0,\n",
       "       0, 0, 0, 4, 1, 0, 0, 0, 4, 2, 4, 4, 2, 3, 0, 3, 0, 3, 2, 0, 2, 1,\n",
       "       2, 0, 0, 4, 0, 0, 0, 0, 0, 1, 2, 0, 1, 3, 0, 0, 1, 0, 3, 2, 4, 2,\n",
       "       0, 3, 0, 2, 4, 4, 4, 2, 0, 3, 4, 4, 0, 0, 2, 0, 2, 1, 2, 0, 2, 1,\n",
       "       2, 3, 0, 3, 0, 0, 3, 4, 2, 2, 0, 0, 2, 4, 0, 3, 1, 3, 0, 0, 0, 3,\n",
       "       4, 2, 0, 4, 3, 4, 0, 0, 3, 4, 0, 0, 0, 0, 2, 4, 0, 2, 4, 4, 2, 4,\n",
       "       3, 0, 4, 4, 4, 0, 4, 3, 0, 0, 3, 2, 2, 4, 4, 3, 0, 4, 2, 0, 1, 0,\n",
       "       2, 0, 3, 0, 0, 0, 1, 4, 4, 4, 4, 0, 1, 3, 4, 2, 0, 0, 0, 0, 4, 4,\n",
       "       0, 0, 2, 1, 0, 1, 0, 1, 0, 0, 2, 3, 4, 0, 0, 0, 3, 0, 1, 1, 4, 4,\n",
       "       0, 1, 2, 0, 0, 4, 3, 4, 3, 3, 3, 3, 3, 0, 4, 0, 0, 3, 3, 0, 2, 0,\n",
       "       4, 0, 3, 2, 2, 3, 0, 1, 2, 0, 0, 4, 0, 0, 3, 1, 3, 4, 3, 2, 3, 4,\n",
       "       2, 2, 0, 1, 2, 4, 3, 2, 3, 0, 0, 1, 4, 1, 3, 0, 0, 0, 3, 0, 4, 4,\n",
       "       3, 0, 0, 0, 4, 0, 0, 3, 0, 4, 3, 3, 0, 0, 2, 0, 3, 2, 4, 4, 4, 3,\n",
       "       4, 2, 2, 3, 3, 3, 3, 2, 4, 3, 4, 0, 0, 0, 4, 2, 2, 0, 4, 0, 0, 0,\n",
       "       4, 3, 0, 4, 2, 0, 0, 3, 0, 4, 4, 2, 0, 3, 0, 0, 2, 0, 2, 4, 3, 0,\n",
       "       4, 3, 2, 3, 4, 3, 2, 0, 4, 0, 0, 0, 0, 1, 3, 3, 0, 2, 0, 0, 3, 4,\n",
       "       0, 0, 3, 0, 4, 2, 2, 0, 3, 3, 0, 4, 0, 0, 0, 0, 0, 3, 4, 2, 4, 3,\n",
       "       2, 0, 3, 3, 3, 2, 0, 4, 0, 0, 4, 0, 4, 0, 4, 0, 2, 4, 4, 2, 0, 1,\n",
       "       3, 3, 0, 0, 4, 2, 3, 0, 0, 4, 4, 0, 0, 4, 2, 2, 0, 4, 4, 2, 3, 2,\n",
       "       0, 4, 0, 3, 0, 0, 0, 4, 4, 3, 0, 2, 0, 0, 0, 3, 0, 2, 0, 3, 2, 4,\n",
       "       2, 4, 3, 2, 3, 0, 4, 3, 4, 3, 0, 4, 4, 0, 4, 3, 3, 0, 0, 4, 4, 0,\n",
       "       3, 3, 3, 0, 0, 0, 1, 0, 0, 4, 0, 3, 4, 4, 0, 4, 2, 3, 0, 3, 0, 4,\n",
       "       2, 1, 3, 2, 3, 2, 1, 3, 0, 4, 3, 4, 3, 3, 1, 0, 4, 0, 3, 3, 1, 4,\n",
       "       0, 3, 0, 3, 4, 0, 0, 1, 0, 0, 0, 4, 4, 2, 0, 0, 4, 0, 4, 4, 2, 3,\n",
       "       0, 0, 2, 2, 0, 3, 2, 2, 3, 4, 0, 3, 3, 2, 4, 4, 4, 3, 0, 0, 0, 0,\n",
       "       3, 4, 3, 0, 0, 3, 4, 3, 0, 2, 3, 0, 2, 4, 0, 4, 0, 0, 0, 0, 0, 0,\n",
       "       4, 4, 0, 3, 3, 1, 0, 0, 3, 3, 0, 0, 3, 0, 4, 0, 2, 0, 0, 0, 3, 2,\n",
       "       4, 0, 3, 2, 4, 4, 2, 2, 3, 4, 3, 0, 4, 4, 3, 0, 1, 4, 3, 3, 0, 4,\n",
       "       0, 4, 4, 0, 3, 0, 3, 0, 4, 3, 0, 2, 3, 4, 0, 0, 4, 0, 0, 0, 4, 0,\n",
       "       0, 4, 4, 0, 0, 4, 0, 3, 2, 2, 2, 0, 1, 0, 4, 0, 4, 2, 0, 0, 3, 0,\n",
       "       3, 0, 0, 4, 0, 1, 1, 4, 0, 0, 0, 0, 1, 0, 3, 2, 3, 4, 3, 0, 2, 0,\n",
       "       3, 3, 3, 0, 2, 0, 4, 3, 2, 2, 0, 3, 0, 1, 2, 2, 0, 4, 3, 1, 1, 0,\n",
       "       4, 4, 4, 4, 3, 0, 0, 0, 4, 0, 3, 3, 0, 3, 3, 1, 4, 0, 0, 0, 0, 2,\n",
       "       3, 4, 4, 0, 2, 3, 4, 4, 0, 4, 1, 3, 1, 4, 4, 0, 2, 1, 1, 1, 3, 3,\n",
       "       0, 3, 0, 3, 0, 0, 0, 0, 0, 3, 3, 1, 1, 1, 4, 2, 3, 0, 0, 3, 4, 3,\n",
       "       0, 0, 1, 0, 0, 3, 0, 0, 4, 0, 1, 0, 0, 2, 3, 3, 2, 4, 0, 0, 3, 4,\n",
       "       0, 1, 0, 2, 3, 1, 4, 3, 4, 0, 0, 3, 3, 3, 4, 2, 0, 0, 4, 4, 2, 4,\n",
       "       1, 0, 1, 3, 3, 3, 0, 4, 2, 4, 0, 2, 3, 3, 3, 1, 4, 0, 2, 3, 0, 0,\n",
       "       0, 3, 0, 0, 2, 3, 3, 0, 2, 3, 0, 4, 1, 2, 4, 3, 2, 2, 0, 4, 0, 4,\n",
       "       0, 3, 4, 1, 3, 2, 0, 0, 0, 0, 0, 2, 1, 0, 2, 3, 0, 0, 4, 3, 3, 0,\n",
       "       3, 3, 4, 0, 1, 3, 3, 2, 2, 1, 4, 0, 0, 4, 4, 4, 4, 4, 3, 1, 1, 0,\n",
       "       0, 0, 2, 3, 4, 2, 1, 0, 0, 2, 3, 1, 3, 3, 1, 0, 1, 4, 2, 0, 0, 2,\n",
       "       2, 2, 4, 1, 4, 0, 0, 2, 0, 1, 2, 2, 0, 3, 4, 0, 3, 3, 3, 0, 1, 2,\n",
       "       3, 4, 0, 0, 3, 3, 3, 2, 2, 0, 3, 1, 4, 4, 0, 3, 1, 0, 0, 3, 0, 2,\n",
       "       3, 0, 3, 0, 0, 3, 0, 0, 3, 2, 1, 4, 3, 0, 3, 4, 0, 0, 4, 2, 1, 3,\n",
       "       0, 1, 0, 3, 0, 3, 0, 2, 3, 0, 0, 3, 4, 3, 0, 3, 4, 0, 2, 4, 4, 0,\n",
       "       1, 3, 2, 0, 0, 0, 0, 3, 3, 4, 4, 3, 0, 0, 2, 0, 0, 0, 3, 0, 0, 3,\n",
       "       0, 0, 4, 2, 0, 0, 2, 4, 3, 4, 2, 4, 4, 0, 0, 0, 3, 2, 0, 4, 4, 2,\n",
       "       4, 0, 2, 1, 1, 3, 0, 0, 0, 0, 4, 0, 2, 0, 0, 0, 4, 0, 0, 0, 2, 0,\n",
       "       2, 3, 2, 4, 2, 3, 0, 0, 0, 3, 0, 1, 1, 2, 4, 2, 4, 0, 4, 3, 1, 4,\n",
       "       3, 0, 0, 2, 0, 0, 2, 3, 3, 0, 4, 0, 4, 0, 4, 2, 4, 4, 1, 4, 0, 0,\n",
       "       2, 2, 0, 3, 3, 0, 4, 0, 3, 0, 0, 0, 4, 0, 0, 1, 3, 4, 4, 3, 0, 4,\n",
       "       4, 0, 2, 4, 2, 4, 4, 0, 0, 4, 0, 2, 1, 1, 0, 0, 3, 0, 2, 0, 3, 2,\n",
       "       2, 3, 3, 0, 0, 3, 3, 0, 0, 3, 2, 4, 4, 4, 0, 2, 4, 2, 4, 4, 0, 3,\n",
       "       0, 3, 0, 3, 4, 4, 1, 0, 1, 0, 0, 0, 0, 0, 4, 2, 4, 3, 0, 1, 4, 3,\n",
       "       0, 1, 0, 3, 0, 0, 4, 3, 3, 3, 4, 0, 0, 0, 4, 1, 0, 3, 0, 0, 0, 4,\n",
       "       3, 4, 3, 0, 0, 0, 2, 2, 4, 1, 0, 0, 0, 3, 3, 0, 4, 4, 0, 2, 4, 3,\n",
       "       1, 1, 1, 4, 3, 4, 0, 4, 3, 0, 0, 4, 0, 4, 3, 3, 3, 4, 3, 2, 3, 1,\n",
       "       0, 0, 2, 3, 3, 0, 2, 3, 4, 4, 0, 0, 3, 4, 0, 4, 3, 0, 0, 0, 3, 0,\n",
       "       3, 3, 3, 0, 0, 4, 4, 1, 4, 3, 3, 4, 3, 4, 2, 1, 2, 3, 4, 2, 0, 2,\n",
       "       2, 4, 4, 0, 3, 0, 0, 1, 0, 2, 4, 4, 2, 3, 0, 0, 2, 4, 0, 0, 0, 3,\n",
       "       0, 3, 3, 0, 1, 0, 2, 2, 3, 2, 3, 2, 0, 4, 2, 2, 1, 3, 2, 4, 0, 0,\n",
       "       4, 2, 0, 3, 3, 0, 3, 0, 0, 3, 4, 1, 4, 0, 1, 4, 2, 2, 2, 2, 0, 2,\n",
       "       4, 0, 4, 0, 0, 0, 3, 0, 2, 1, 3, 0, 3, 0, 2, 3, 0, 0, 3, 3, 4, 0,\n",
       "       0, 2, 0, 0, 4, 4, 4, 0, 4, 0, 0, 2, 4, 0, 0, 0, 3, 0, 4, 0, 0, 3,\n",
       "       1, 0, 0, 4, 2, 4, 2, 2, 1, 4, 2, 4, 3, 1, 0, 3, 3, 0, 0, 0, 0, 1,\n",
       "       0, 2, 4, 4, 4, 0, 4, 2, 4, 0, 0, 0, 2, 4, 2, 2, 2, 1, 1, 0, 3, 0,\n",
       "       0, 0, 1, 3, 0, 0, 3, 0, 3, 0, 3, 0, 3, 0, 0, 0, 2, 2, 3, 0, 4, 3,\n",
       "       3, 3, 0, 3, 0, 3, 0, 0, 1, 2, 1, 3, 3, 0, 0, 0, 1, 2, 3, 4, 0, 2,\n",
       "       4, 3, 1, 3, 2, 0, 0, 0, 2, 2, 0, 3, 3, 2, 3, 3, 2, 4, 2, 0, 1, 2,\n",
       "       2, 0, 0, 3, 0, 0, 3, 3, 4, 3, 2, 0, 2, 0, 0, 2, 4, 1, 3, 3, 0, 4,\n",
       "       3, 1, 2, 0, 0, 3, 2, 0, 0, 0, 3, 0, 0, 2, 1, 2, 1, 1, 2, 0, 2, 3,\n",
       "       2, 1, 4, 0, 2, 3, 0, 1, 0, 0, 2, 0, 2, 0, 0, 0, 0, 3, 1, 1, 1, 4,\n",
       "       1, 2, 3, 0, 3, 4, 3, 0, 0, 3, 1, 0, 0, 3, 0, 0, 0, 0, 0, 1, 1, 0,\n",
       "       4, 0, 3, 1, 1, 0, 0, 4, 2, 4, 0, 2, 4, 0, 4, 3, 0, 3, 1, 4, 0, 2,\n",
       "       0, 0, 4, 4, 3, 0, 0, 3, 2, 2, 0, 4, 0, 3, 2, 3, 3, 4, 0, 3, 3, 2,\n",
       "       1, 3, 2, 3, 0, 0, 0, 3, 3, 2, 3, 4, 0, 0, 4, 0, 3, 0, 0, 0, 4, 0,\n",
       "       0, 2, 3, 3, 4, 4, 0, 0, 1, 2, 0, 0, 1, 1, 4, 3, 4, 0, 3, 0, 4, 0,\n",
       "       0, 0, 1, 0, 3, 3, 0, 0, 3, 0, 0, 4, 2, 2, 0, 0, 0, 0, 0, 1, 3, 4,\n",
       "       2, 0, 0, 3, 0, 4, 2, 0, 2, 3, 1, 1, 4, 3, 2, 1, 3, 4, 0, 1, 3, 3,\n",
       "       0, 4, 3, 0, 4, 0, 0, 2, 2, 2, 3, 4, 2, 0, 2, 0, 0, 3, 2, 0, 4, 0,\n",
       "       0, 0, 0, 0, 0, 4, 2, 2, 4, 2, 2, 0, 3, 1, 4, 3, 4, 0, 3, 2, 4, 3,\n",
       "       2, 4, 1, 1, 0, 4, 0, 1, 0, 3, 4, 4, 3, 0, 0, 1, 2, 0, 1, 1, 1, 0,\n",
       "       1, 4, 3, 0, 4, 0, 0, 2, 0, 3, 3, 2, 1, 3, 0, 3, 0, 2, 3, 3, 4, 4,\n",
       "       0, 2, 0, 0, 2, 0, 1, 0, 3, 0, 4, 4, 3, 0, 1, 2, 2, 2, 3, 3, 1, 3,\n",
       "       4, 2, 4, 2, 3, 1, 2, 1, 3, 0, 3, 1, 2, 3, 3, 0, 2, 3, 2, 0, 0, 0,\n",
       "       4, 0, 0, 1, 4, 0, 0, 0, 0, 4, 0, 0, 3, 2, 3, 0, 0, 0, 3, 0, 3, 0,\n",
       "       3, 1, 2, 3, 3, 0, 3, 2, 0, 2, 3, 2, 1, 1, 3, 0, 1, 1, 3, 3, 0, 0,\n",
       "       3, 4, 3, 4, 1, 0, 0, 4, 2, 0, 0, 4, 0, 0, 0, 3, 3, 1, 2, 2, 1, 3,\n",
       "       4, 3, 3, 2, 3, 0, 3, 4, 0, 4, 0, 2, 0, 0, 2, 2, 4, 3, 4, 2, 1, 3,\n",
       "       2, 0, 0, 0, 3, 3, 0, 1, 2, 3, 0, 2, 3, 0, 4, 3, 4, 3, 1, 2, 0, 0,\n",
       "       0, 2, 1, 2, 3, 4, 3, 0, 1, 1, 3, 0, 1, 3, 0, 2, 0, 3, 3, 3, 4, 2,\n",
       "       2, 1, 0, 4, 1, 0, 3, 0, 2, 0, 0, 0, 0, 3, 2, 0, 4, 2, 1, 3, 1, 2,\n",
       "       1, 0, 0, 0, 1, 0, 3, 0, 0, 0, 0, 1, 3, 0, 4, 3, 0, 3, 0, 3, 0, 4,\n",
       "       3, 1, 1, 3, 4, 0, 0, 4, 0, 1, 0, 0, 3, 3, 4, 0, 3, 3, 3, 2, 0, 2,\n",
       "       3, 4, 4, 1, 1, 4, 4, 0, 0, 3, 4, 2, 0, 0, 3, 0, 4, 1, 2, 2, 3, 0,\n",
       "       3, 0, 0, 0, 0, 0, 3, 0, 1, 3, 0, 0, 4, 0, 0, 0, 2, 3, 3, 3, 4, 2,\n",
       "       2, 2, 3, 0, 3, 3, 3, 2, 0, 3, 0, 0, 1, 2, 4, 0, 1, 2, 4, 0, 3, 3,\n",
       "       4, 0, 0, 0, 0, 1, 2, 2, 0, 3, 0, 3, 0, 2, 4, 4, 0, 1, 0, 1, 1, 3,\n",
       "       4, 3, 4, 0, 3, 0, 4, 3, 1, 0, 2, 3, 4, 1, 0, 3, 3, 3, 1, 0, 0, 3,\n",
       "       2, 0, 3, 2, 3, 1, 3, 3, 0, 2, 0, 3, 1, 1, 3, 1, 1, 4, 4, 3, 2, 0,\n",
       "       0, 3, 3, 0, 3, 3, 1, 0, 0, 0, 2, 4, 1, 0, 1, 3, 0, 3, 0, 0, 3, 2,\n",
       "       0, 3, 2, 1, 2, 2, 4, 2, 0, 0, 2, 1, 2, 2, 1, 3, 3, 1, 4, 1, 0, 0,\n",
       "       2, 0, 0, 0, 3, 2, 3, 2, 2, 4, 2, 3, 3, 2, 3, 3, 0, 1, 2, 4, 0, 3,\n",
       "       0, 4, 3, 0, 4, 3, 0, 0, 0, 1, 4, 3, 0, 0, 3, 0, 0, 1, 0, 3, 0, 2,\n",
       "       4, 1, 1, 0, 0, 4, 2, 0, 1, 0, 0, 0, 1, 3, 3, 0, 3, 0, 2, 0, 0, 0,\n",
       "       0, 1, 4, 3, 3, 0, 3, 3, 3, 2, 0, 0, 1, 4, 0, 0, 4, 0, 0, 2, 3, 3,\n",
       "       3, 2, 0, 3, 3, 0, 2, 2, 0, 0, 3, 0, 0, 3, 3, 0, 0, 1, 0, 2, 0, 1,\n",
       "       3, 0, 2, 4, 3, 0, 4, 3, 0, 2, 3, 4, 4, 2, 2, 0, 0, 0, 3, 2, 0, 4,\n",
       "       0, 3, 2, 3, 3, 1, 0, 0, 0, 3, 0, 0, 3, 3, 0, 3, 0, 4, 1, 2, 3, 0,\n",
       "       0, 0, 3, 2, 1, 0, 1, 3, 2, 0, 1, 3, 0, 3, 3, 4, 1, 3, 0, 0, 2, 4,\n",
       "       0, 3, 0, 4, 0, 3, 0, 3, 0, 0, 3, 1, 4, 3, 2, 3, 3, 4, 3, 4, 3, 1,\n",
       "       0, 2, 0, 4, 2, 4, 0, 0, 2, 2, 0, 4, 1, 2, 0, 0, 2, 0, 2, 0, 0, 0,\n",
       "       4, 0, 4, 2, 3, 0, 2, 4, 2, 2, 2, 2, 1, 2, 3, 2, 2, 0, 0, 0, 0, 3,\n",
       "       0, 2, 2, 4, 4, 4, 1, 2, 3, 2, 3, 3, 3, 4, 3, 0, 1, 4, 0, 0, 2, 3,\n",
       "       2, 0, 2, 0, 3, 3, 1, 2, 2, 2, 3, 3, 1, 2, 3, 1, 3, 2, 0, 1, 0, 3,\n",
       "       3, 0, 0, 0, 1, 3, 3, 0, 0, 1, 1, 3, 2, 2, 2, 4, 1, 3, 0, 3, 0, 2,\n",
       "       3, 0, 4, 2, 0, 4, 4, 0, 3, 3, 0, 0, 4, 3, 3, 1, 0, 3, 1, 1, 0, 4,\n",
       "       3, 3, 0, 1, 1, 3, 2, 0, 0, 0, 0, 2, 0, 1, 0, 4, 4, 0, 0, 0, 0, 3,\n",
       "       0, 3, 0, 0, 2, 4, 1, 3, 3, 0, 0, 3, 4, 4, 3, 3, 4, 0, 0, 3, 2, 2,\n",
       "       4, 4, 4, 2, 0, 0, 2, 3, 2, 0, 3, 0, 3, 1, 3, 4, 0, 1, 3, 0, 4, 3,\n",
       "       1, 3, 3, 3, 3, 3, 0, 0, 0, 0, 0, 3, 4, 2, 3, 2, 4, 3, 3, 1, 4, 4,\n",
       "       2, 0, 0, 0, 0, 2, 0, 0, 2, 1, 0, 4, 0, 0, 0, 2, 2, 0, 3, 0, 4, 3,\n",
       "       3, 1, 4, 3, 0, 0, 0, 2, 0, 0, 0, 3, 3, 1, 0, 4, 2, 1, 1, 3, 0, 4,\n",
       "       3, 4, 4, 0, 0, 0, 2, 1, 3, 4, 2, 2, 0, 4, 4, 0, 2, 3, 2, 3, 0, 0,\n",
       "       0, 0, 0, 3, 3, 2, 1, 0, 1, 3, 3, 3, 0, 3, 3, 1, 0, 4, 4, 3, 2, 3,\n",
       "       4, 4, 4, 2, 3, 4, 3, 0, 1, 1, 2, 4, 0, 0, 3, 1, 0, 3, 0, 3, 1, 2,\n",
       "       0, 4, 3, 1, 3, 0, 0, 4, 0, 0, 2, 0, 3, 0, 3, 0, 2, 3, 0, 2, 3, 4,\n",
       "       4, 1, 3, 3, 4, 0, 2, 3, 0, 3, 1, 0, 0, 0, 0, 2, 0, 0, 0, 1, 4, 4,\n",
       "       1, 0, 0, 4, 3, 0, 3, 4, 3, 0, 0, 0, 0, 3, 0, 1, 3, 3, 3, 4, 2, 4,\n",
       "       2, 2, 2, 0, 4, 4, 0, 3, 4, 4, 0, 0, 4, 0, 3, 0, 4, 0, 0, 3, 0, 1,\n",
       "       0, 0, 3, 1, 1, 4, 3, 1, 2, 0, 0, 1, 0, 1, 3, 4, 0, 0, 0, 0, 3, 0,\n",
       "       2, 3, 0, 1, 0, 0, 0, 4, 2, 0, 2, 1, 2, 4, 3, 1, 4, 2, 2, 0, 2, 2,\n",
       "       0, 0, 4, 4, 0, 3, 0, 3, 2, 0, 3, 2, 1, 3, 3, 2, 2, 1, 2, 4, 0, 3,\n",
       "       0, 0, 3, 3, 4, 4, 0, 0, 0, 0, 1, 0, 3, 2, 4, 3, 1, 0, 4, 1, 4, 0,\n",
       "       3, 4, 2, 4, 0, 4, 4, 0, 4, 0, 0, 2, 2, 2, 0, 0, 0, 3, 0, 1, 4, 0,\n",
       "       0, 0, 0, 3, 3, 0, 2, 0, 0, 0, 2, 1, 1, 0, 1, 2, 4, 0, 4, 0, 1, 4,\n",
       "       0, 0, 2, 1, 0, 0, 0, 3, 3, 2, 2, 0, 0, 1, 0, 3, 0, 3, 3, 4, 0, 4,\n",
       "       0, 0, 2, 0, 0, 4, 3, 0, 4, 0, 0, 4, 4, 0, 0, 0, 2, 0, 0, 4, 0, 3,\n",
       "       4, 0, 2, 1, 4, 3, 4, 4, 1, 4, 2, 1, 0, 4, 0, 2, 0, 3, 4, 0, 2, 2,\n",
       "       0, 3, 3, 3, 0, 4, 3, 0, 3, 0, 4, 3, 2, 0, 3, 4, 0, 3, 0, 4, 0, 4,\n",
       "       0, 3, 1, 4, 0, 4, 2, 0, 2, 0, 4, 4, 0, 0, 4, 0, 2, 4, 4, 4, 0, 0,\n",
       "       0, 1, 0, 2, 1, 0, 1, 3, 1, 0, 3, 1, 1, 4, 1, 3, 2, 1, 1, 2, 4, 0,\n",
       "       2, 0, 4, 3, 4, 3, 1, 3, 2, 3, 4, 2, 3, 0, 3, 3, 0, 1, 1, 1, 3, 3,\n",
       "       1, 0, 2, 2, 3, 3, 2, 1, 0, 2, 3, 3, 0, 3, 1, 2, 2, 0, 2, 3, 0, 1,\n",
       "       0, 2, 4, 1, 3, 0, 0, 2, 1, 0, 3, 2, 4, 1, 0, 1, 0, 2, 0, 2, 0, 0,\n",
       "       0, 4, 1, 4, 0, 0, 4, 0, 0, 0, 0, 1, 0, 0, 4, 0, 0, 2, 1, 4, 0, 0,\n",
       "       0, 0, 0, 1, 0, 2, 3, 0, 0, 3, 0, 2, 3, 1, 3, 4, 0, 3, 4, 3, 2, 2,\n",
       "       0, 2, 0, 1, 0, 0, 3, 4, 3, 0, 4, 3, 2, 3, 0, 0, 2, 3, 1, 0, 1, 3,\n",
       "       0, 0, 0, 1, 2, 2, 0, 2, 1, 2, 0, 3, 0, 0, 0, 0, 3, 0, 0, 0, 3, 1,\n",
       "       1, 2, 3, 3, 0, 0, 4, 0, 2, 0, 2, 0, 0, 0, 0, 0, 0, 4, 0, 0, 3, 0,\n",
       "       1, 2, 1, 2, 2, 3, 4, 0, 0, 3, 4, 3, 0, 0, 1, 0, 3, 2, 0, 3, 0, 4,\n",
       "       2, 0, 0, 4, 4, 0, 4, 3, 1, 0, 1, 0, 1, 1, 0, 2, 0, 3, 0, 2, 1, 2,\n",
       "       4, 3, 0, 0, 2, 0, 1, 0, 4, 0, 0, 1, 0, 2, 0, 3, 2, 3, 0, 4, 2, 0,\n",
       "       1, 2, 3, 0, 1, 0, 4, 0, 1, 3, 0, 3, 2, 0, 0, 0, 4, 3, 4, 0, 4, 1,\n",
       "       3, 0, 4, 2, 0, 0, 1, 0, 0, 0, 2, 0, 0, 4, 0, 3, 0, 0, 3, 0, 0, 0,\n",
       "       0, 4, 1, 0, 0, 0, 2, 0, 3, 4, 4, 4, 0, 2, 4, 0, 0, 2, 4, 4, 1, 0,\n",
       "       1, 0, 3, 0, 0, 4, 3, 3, 0, 3, 3, 3, 3, 4, 3, 4, 2, 0, 2, 0, 3, 2,\n",
       "       2, 4, 3, 4, 3, 4, 0, 3, 2, 2, 4, 1, 0, 3, 0, 3, 0, 0, 4, 0, 0, 0,\n",
       "       3, 2, 2, 0, 0, 1, 2, 0, 2, 0, 0, 3, 4, 0, 0, 4, 0, 0, 0, 0, 1, 1,\n",
       "       3, 1, 0, 3, 3, 0, 0, 1, 0, 3, 4, 2, 2, 3, 0, 0, 3, 1, 1, 0, 3, 0,\n",
       "       0, 1, 2, 2, 0, 0, 2, 0, 2, 4, 3, 0, 0, 0, 0, 0, 4, 0, 0, 0, 3, 4,\n",
       "       0, 0, 1, 4, 0, 3, 4, 0, 4, 4, 3, 4, 3, 2, 0, 1, 0, 2, 1, 0, 1, 3,\n",
       "       0, 3, 0, 1, 1, 0, 2, 0, 0, 4, 0, 2, 4, 4, 3, 0, 2, 2, 3, 0, 0, 4,\n",
       "       2, 3, 0, 2, 2, 3, 3, 2, 0, 3, 3, 0, 0, 0, 0, 4, 0, 4, 1, 0, 3, 1,\n",
       "       0, 0, 0, 4, 3, 2, 1, 4, 3, 0, 0, 1, 3, 3, 0, 2, 2, 3, 0, 2, 2, 0,\n",
       "       0, 0, 2, 4, 4, 0, 4, 0, 1, 0, 3, 4, 1, 4, 3, 2, 3, 0, 4, 3, 1, 0,\n",
       "       3, 2, 1, 1, 2, 1, 4, 3, 4, 4, 2, 3, 0, 3, 4, 2, 0, 0, 4, 2, 0, 1,\n",
       "       0, 2, 0, 2, 0, 2, 1, 1, 2, 0, 4, 0, 0, 3, 1, 1, 0, 2, 1, 0, 0, 3,\n",
       "       3, 3, 0, 3, 2, 0, 3, 0, 3, 0, 3, 2, 2, 0, 0, 3, 3, 0, 0, 1, 2, 3,\n",
       "       4, 3, 0, 0, 0, 1, 3, 0, 3, 2, 0, 0, 0, 2, 0, 4, 0, 2, 0, 3, 0, 1,\n",
       "       2, 2, 0, 1, 0, 4, 3, 3, 0, 4, 1, 0, 2, 0, 1, 0, 1, 0, 0, 0, 2, 0,\n",
       "       0, 1, 2, 0, 1, 1, 0, 0, 2, 4, 4, 2, 2, 1, 0, 3, 2, 3, 2, 4, 2, 2,\n",
       "       0, 3, 0, 1, 1, 1, 3, 4, 0, 2, 0, 4, 3, 1, 3, 4, 0, 1, 3, 3, 2, 0,\n",
       "       4, 0, 1, 1, 3, 2, 0, 2, 3, 1, 2, 2, 1, 0, 0, 2, 0, 3, 0, 1, 0, 1,\n",
       "       0, 4, 0, 2, 0, 3, 0, 2, 3, 3, 2, 4, 2, 3, 0, 0, 0, 0, 0, 0, 4, 4,\n",
       "       0, 1, 0, 0, 3, 3, 0, 0, 0, 0, 3, 0, 4, 2, 4, 3, 0, 1, 0, 0, 3, 2,\n",
       "       0, 1, 3, 0, 0, 0, 2, 0, 3, 0, 3, 3, 0, 1, 3, 0, 3, 0, 1, 2, 1, 1,\n",
       "       1, 0, 2, 1, 0, 0, 0, 0, 2, 3, 2, 2, 3, 2, 3, 4, 2, 1, 2, 0, 3, 0,\n",
       "       2, 1, 1, 4, 3, 4, 1, 1, 0, 2, 0, 1, 3, 0, 3, 2, 2, 3, 0, 3, 3, 1,\n",
       "       0, 2, 2, 0, 1, 0, 2, 1, 3, 0, 2, 0, 0, 0, 3, 3, 0, 3, 3, 0, 0, 0,\n",
       "       2, 3, 2, 0, 2, 0, 0, 2, 0, 3, 2, 3, 1, 3, 1, 1, 1, 2, 3, 0, 2, 0,\n",
       "       0, 2, 0, 1, 3, 4, 4, 1, 0, 0, 3, 0, 1, 3, 1, 0, 0, 4, 0, 2, 1, 0,\n",
       "       1, 0, 0, 0, 3, 3, 3, 0, 2, 0, 2, 0, 3, 2, 0, 3, 1, 2, 2, 4, 0, 0,\n",
       "       0, 0, 3, 3, 2, 0, 2, 2, 1, 2, 0, 0, 2, 2, 0, 3, 0, 3, 3, 0, 3, 0,\n",
       "       0, 0, 4, 0, 0, 2, 3, 0, 3, 0, 3, 1, 3, 3, 4, 0, 1, 1, 3, 1, 3, 0,\n",
       "       4, 4, 4, 4, 3, 2, 3, 3, 2, 4, 3, 2, 3, 0, 2, 0, 3, 2, 4, 3, 3, 1,\n",
       "       3, 2, 0, 0, 0, 4, 0, 0, 3, 0, 1, 0, 3, 3, 4, 3, 0, 0, 1, 3, 0, 0,\n",
       "       1, 0, 3, 3, 0, 0, 3, 1, 0, 0, 2, 0, 0, 2, 0, 0, 2, 4, 0, 3, 0, 1,\n",
       "       0, 1, 4, 1, 0, 0, 0, 0, 0, 2, 0, 4, 2, 2, 3, 1, 3, 2, 3, 3, 0, 0,\n",
       "       0, 2, 2, 0, 2, 1, 0, 3, 1, 0, 0, 0, 0, 1, 3, 1, 2, 3, 0, 0, 0, 2,\n",
       "       3, 4, 0, 2, 0, 1, 0, 1, 2, 2, 1, 0, 2, 0, 0, 3, 2, 1, 0, 2, 0, 2,\n",
       "       0, 3, 0, 0, 0, 0, 4, 1, 4, 0, 2, 3, 3, 2, 2, 1, 3, 0, 0, 3, 2, 1,\n",
       "       1, 2, 3, 1, 0, 2, 3, 0, 2, 0, 4, 0, 3, 4, 0, 0, 0, 2, 0, 1, 1, 0,\n",
       "       0, 3, 2, 4, 1, 0, 0, 1, 3, 0, 1, 3, 1, 0, 0, 2, 0, 4, 1, 1, 3, 1,\n",
       "       0, 0, 0, 2, 2, 1, 0, 0, 1, 3, 2, 3, 2, 3, 3, 1, 2, 0, 0, 1, 0, 1,\n",
       "       2, 2, 3, 2, 3, 4, 4, 1, 2, 0, 0, 4, 0, 2, 0, 2, 4, 0, 2, 2, 1, 1,\n",
       "       0, 2, 0, 3, 1, 1, 0, 2, 2, 2, 0, 2, 0, 2, 0, 2, 0])"
      ]
     },
     "execution_count": 50,
     "metadata": {},
     "output_type": "execute_result"
    }
   ],
   "source": [
    "# print all the labels (clustering index) of customers\n",
    "np.set_printoptions(threshold=sys.maxsize)\n",
    "y_km"
   ]
  },
  {
   "cell_type": "code",
   "execution_count": 51,
   "metadata": {
    "ExecuteTime": {
     "end_time": "2020-02-07T04:59:05.119928Z",
     "start_time": "2020-02-07T04:59:05.115940Z"
    }
   },
   "outputs": [
    {
     "data": {
      "text/plain": [
       "array([[0.29366508, 0.23271727, 0.18407819, 0.16056235, 0.20939067],\n",
       "       [0.39202978, 0.19083445, 0.15685697, 0.46537624, 0.2616893 ],\n",
       "       [0.51590298, 0.1789597 , 0.15210556, 0.20764999, 0.24677625],\n",
       "       [0.32521383, 0.25166693, 0.19511886, 0.1639903 , 0.43389218],\n",
       "       [0.25256457, 0.45312456, 0.20026372, 0.13817731, 0.2749006 ]])"
      ]
     },
     "execution_count": 51,
     "metadata": {},
     "output_type": "execute_result"
    }
   ],
   "source": [
    "# cluster centers\n",
    "km.cluster_centers_"
   ]
  }
 ],
 "metadata": {
  "kernelspec": {
   "display_name": "Python 3",
   "language": "python",
   "name": "python3"
  },
  "language_info": {
   "codemirror_mode": {
    "name": "ipython",
    "version": 3
   },
   "file_extension": ".py",
   "mimetype": "text/x-python",
   "name": "python",
   "nbconvert_exporter": "python",
   "pygments_lexer": "ipython3",
   "version": "3.7.4"
  },
  "toc": {
   "base_numbering": 1,
   "nav_menu": {},
   "number_sections": true,
   "sideBar": true,
   "skip_h1_title": false,
   "title_cell": "Table of Contents",
   "title_sidebar": "Contents",
   "toc_cell": false,
   "toc_position": {
    "height": "calc(100% - 180px)",
    "left": "10px",
    "top": "150px",
    "width": "168.628px"
   },
   "toc_section_display": true,
   "toc_window_display": true
  },
  "varInspector": {
   "cols": {
    "lenName": 16,
    "lenType": 16,
    "lenVar": 40
   },
   "kernels_config": {
    "python": {
     "delete_cmd_postfix": "",
     "delete_cmd_prefix": "del ",
     "library": "var_list.py",
     "varRefreshCmd": "print(var_dic_list())"
    },
    "r": {
     "delete_cmd_postfix": ") ",
     "delete_cmd_prefix": "rm(",
     "library": "var_list.r",
     "varRefreshCmd": "cat(var_dic_list()) "
    }
   },
   "types_to_exclude": [
    "module",
    "function",
    "builtin_function_or_method",
    "instance",
    "_Feature"
   ],
   "window_display": false
  }
 },
 "nbformat": 4,
 "nbformat_minor": 2
}
